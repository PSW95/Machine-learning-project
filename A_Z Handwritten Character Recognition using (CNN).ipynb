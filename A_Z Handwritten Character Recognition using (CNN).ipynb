{
 "cells": [
  {
   "cell_type": "code",
   "execution_count": 1,
   "id": "d50f2317",
   "metadata": {},
   "outputs": [],
   "source": [
    "import numpy as np\n",
    "import pandas as pd\n",
    "import matplotlib.pyplot as plt\n",
    "import cv2"
   ]
  },
  {
   "cell_type": "code",
   "execution_count": 20,
   "id": "f0ca4889",
   "metadata": {},
   "outputs": [],
   "source": [
    "data = pd.read_csv(r\"C:\\\\Users\\\\Downloads\\\\A_Z Handwritten Data.csv\").astype('float32')\n",
    "\n",
    "# Split features and labels\n",
    "X = data.drop('0', axis=1).values / 255.0   # Normalize\n",
    "y = data['0'].values.astype(int)"
   ]
  },
  {
   "cell_type": "code",
   "execution_count": 21,
   "id": "435ee7b1",
   "metadata": {},
   "outputs": [],
   "source": [
    "from keras.utils import to_categorical\n",
    "\n",
    "X = X.reshape(-1, 28, 28, 1)\n",
    "y = to_categorical(y, num_classes=26)  # All 26 letters (A–Z)"
   ]
  },
  {
   "cell_type": "code",
   "execution_count": 22,
   "id": "aba348fe",
   "metadata": {},
   "outputs": [],
   "source": [
    "from sklearn.model_selection import train_test_split\n",
    "\n",
    "train_x, test_x, train_y, test_y = train_test_split(X, y, test_size=0.2, random_state=42)"
   ]
  },
  {
   "cell_type": "code",
   "execution_count": 23,
   "id": "33263434",
   "metadata": {},
   "outputs": [],
   "source": [
    "from keras.models import Sequential\n",
    "from keras.layers import Conv2D, MaxPooling2D, Flatten, Dense, Dropout\n",
    "\n",
    "model = Sequential()\n",
    "model.add(Conv2D(32, kernel_size=3, activation='relu', input_shape=(28,28,1)))\n",
    "model.add(MaxPooling2D(2))\n",
    "model.add(Conv2D(64, kernel_size=3, activation='relu'))\n",
    "model.add(MaxPooling2D(2))\n",
    "model.add(Flatten())\n",
    "model.add(Dense(128, activation='relu'))\n",
    "model.add(Dropout(0.3))\n",
    "model.add(Dense(26, activation='softmax'))  # 26 output classes for A–Z\n",
    "\n",
    "model.compile(optimizer='adam', loss='categorical_crossentropy', metrics=['accuracy'])\n"
   ]
  },
  {
   "cell_type": "code",
   "execution_count": 24,
   "id": "f297a13d",
   "metadata": {},
   "outputs": [
    {
     "name": "stdout",
     "output_type": "stream",
     "text": [
      "Epoch 1/5\n",
      "2328/2328 [==============================] - 242s 104ms/step - loss: 0.2329 - accuracy: 0.9346 - val_loss: 0.0704 - val_accuracy: 0.9806\n",
      "Epoch 2/5\n",
      "2328/2328 [==============================] - 232s 100ms/step - loss: 0.0909 - accuracy: 0.9747 - val_loss: 0.0540 - val_accuracy: 0.9849\n",
      "Epoch 3/5\n",
      "2328/2328 [==============================] - 232s 100ms/step - loss: 0.0691 - accuracy: 0.9806 - val_loss: 0.0483 - val_accuracy: 0.9866\n",
      "Epoch 4/5\n",
      "2328/2328 [==============================] - 234s 101ms/step - loss: 0.0554 - accuracy: 0.9842 - val_loss: 0.0394 - val_accuracy: 0.9894\n",
      "Epoch 5/5\n",
      "2328/2328 [==============================] - 242s 104ms/step - loss: 0.0467 - accuracy: 0.9863 - val_loss: 0.0360 - val_accuracy: 0.9902\n"
     ]
    },
    {
     "data": {
      "text/plain": [
       "<keras.callbacks.History at 0x19368d4feb0>"
      ]
     },
     "execution_count": 24,
     "metadata": {},
     "output_type": "execute_result"
    }
   ],
   "source": [
    "model.fit(train_x, train_y, epochs=5, batch_size=128, validation_data=(test_x, test_y))\n"
   ]
  },
  {
   "cell_type": "code",
   "execution_count": null,
   "id": "96a08952",
   "metadata": {},
   "outputs": [],
   "source": []
  },
  {
   "cell_type": "code",
   "execution_count": 25,
   "id": "6378d074",
   "metadata": {},
   "outputs": [
    {
     "name": "stdout",
     "output_type": "stream",
     "text": [
      "2328/2328 [==============================] - 26s 11ms/step\n"
     ]
    },
    {
     "data": {
      "image/png": "[encoded data removed]",
      "text/plain": [
       "<Figure size 432x288 with 1 Axes>"
      ]
     },
     "metadata": {
      "needs_background": "light"
     },
     "output_type": "display_data"
    },
    {
     "data": {
      "image/png": "[encoded data removed]",
      "text/plain": [
       "<Figure size 432x288 with 1 Axes>"
      ]
     },
     "metadata": {
      "needs_background": "light"
     },
     "output_type": "display_data"
    },
    {
     "data": {
      "image/png": "[encoded data removed]",
      "text/plain": [
       "<Figure size 432x288 with 1 Axes>"
      ]
     },
     "metadata": {
      "needs_background": "light"
     },
     "output_type": "display_data"
    },
    {
     "data": {
      "image/png": "[encoded data removed]",
      "text/plain": [
       "<Figure size 432x288 with 1 Axes>"
      ]
     },
     "metadata": {
      "needs_background": "light"
     },
     "output_type": "display_data"
    },
    {
     "data": {
      "image/png": "[encoded data removed]",
      "text/plain": [
       "<Figure size 432x288 with 1 Axes>"
      ]
     },
     "metadata": {
      "needs_background": "light"
     },
     "output_type": "display_data"
    }
   ],
   "source": [
    "import matplotlib.pyplot as plt\n",
    "\n",
    "word_dict = {i: chr(65 + i) for i in range(26)}  # for all AtoZ letters\n",
    "\n",
    "pred_probs = model.predict(test_x)\n",
    "pred_labels = np.argmax(pred_probs, axis=1)\n",
    "true_labels = np.argmax(test_y, axis=1)\n",
    "\n",
    "for i in range(5):\n",
    "    plt.imshow(test_x[i].reshape(28, 28), cmap='gray')\n",
    "    plt.title(f\"Predicted: {word_dict[pred_labels[i]]} | Actual: {word_dict[true_labels[i]]}\")\n",
    "    plt.axis('off')\n",
    "    plt.show()\n"
   ]
  },
  {
   "cell_type": "code",
   "execution_count": 27,
   "id": "0c40c708",
   "metadata": {},
   "outputs": [
    {
     "name": "stdout",
     "output_type": "stream",
     "text": [
      "1/1 [==============================] - 0s 36ms/step\n",
      "Predicted Letter: R\n"
     ]
    }
   ],
   "source": [
    "import cv2\n",
    "\n",
    "img = cv2.imread('C:\\\\Users\\\\Downloads\\\\r letter.jpg', cv2.IMREAD_GRAYSCALE)\n",
    "img = cv2.resize(img, (28, 28))          # Resize to 28x28\n",
    "img = 255 - img                          # Invert colors if black on white\n",
    "img = img / 255.0                        # Normalize\n",
    "img = img.reshape(1, 28, 28, 1)          # Reshape for model\n",
    "\n",
    "# Predict\n",
    "prediction = model.predict(img)\n",
    "pred_class = np.argmax(prediction)\n",
    "print(f\"Predicted Letter: {word_dict[int(pred_class)]}\")\n"
   ]
  },
  {
   "cell_type": "code",
   "execution_count": 28,
   "id": "8cee611a",
   "metadata": {},
   "outputs": [
    {
     "name": "stdout",
     "output_type": "stream",
     "text": [
      "1/1 [==============================] - 0s 29ms/step\n",
      "Predicted Letter: D\n"
     ]
    }
   ],
   "source": [
    "import cv2\n",
    "\n",
    "img = cv2.imread('C:\\\\Users\\\\Downloads\\\\d letter.png', cv2.IMREAD_GRAYSCALE)\n",
    "img = cv2.resize(img, (28, 28))          # Resize to 28x28\n",
    "img = 255 - img                          # Invert colors if black on white\n",
    "img = img / 255.0                        # Normalize\n",
    "img = img.reshape(1, 28, 28, 1)          # Reshape for model\n",
    "\n",
    "# Predict\n",
    "prediction = model.predict(img)\n",
    "pred_class = np.argmax(prediction)\n",
    "print(f\"Predicted Letter: {word_dict[int(pred_class)]}\")\n"
   ]
  },
  {
   "cell_type": "code",
   "execution_count": null,
   "id": "1d446a8d",
   "metadata": {},
   "outputs": [],
   "source": []
  },
  {
   "cell_type": "code",
   "execution_count": null,
   "id": "798cc3f6",
   "metadata": {},
   "outputs": [],
   "source": []
  }
 ],
 "metadata": {
  "celltoolbar": "Raw Cell Format",
  "kernelspec": {
   "display_name": "Python 3 (ipykernel)",
   "language": "python",
   "name": "python3"
  },
  "language_info": {
   "codemirror_mode": {
    "name": "ipython",
    "version": 3
   },
   "file_extension": ".py",
   "mimetype": "text/x-python",
   "name": "python",
   "nbconvert_exporter": "python",
   "pygments_lexer": "ipython3",
   "version": "3.10.1"
  }
 },
 "nbformat": 4,
 "nbformat_minor": 5
}
